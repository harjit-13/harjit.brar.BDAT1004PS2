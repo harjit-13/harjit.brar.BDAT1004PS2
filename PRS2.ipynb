{
 "cells": [
  {
   "cell_type": "markdown",
   "id": "f55ba5c7-f697-47cc-92d7-ca73f950d03f",
   "metadata": {},
   "source": [
    "# Q 1: Consider the following Python module:\n",
    "a = 0\n",
    "def b():\n",
    "global a\n",
    "a = c(a)\n",
    "def c(a):\n",
    "return a + 2\n",
    "After importing the module into the interpreter, you execute:\n",
    ">>> b()\n",
    ">>> b()\n",
    ">>> b()\n",
    ">>> a\n",
    "?\n",
    "What value is displayed when the last expression (a) is evaluated? Explain your answer by indicating what happens in every executed statement"
   ]
  },
  {
   "cell_type": "markdown",
   "id": "f2ab460f-f4e8-46c3-a750-3846012477c7",
   "metadata": {},
   "source": [
    "Ans. 6\n",
    "global a is global variable a in b()\n",
    "a inside c(a) with a = 0 returns value 0\n",
    " def c(a) return a +2\n",
    "it calculates 0+2 = 2 returns value to b()\n",
    "updates global variable a is  now 2\n",
    "\n",
    "Executing by repeating process  Now the value of a = 2\n",
    "c(a) calculates 2+ 2 = 4  returns to b(), update a in b() a is now 4\n",
    "\n",
    "Again a = c(a) receive current value of a = 4 \n",
    " calculates 4 + 2 =6 returns to b()\n",
    " Now global variable a in b() is updated to 6\n"
   ]
  },
  {
   "cell_type": "markdown",
   "id": "6f837af4-a441-4ef3-b791-234c3e495e0f",
   "metadata": {},
   "source": [
    "# Question 2"
   ]
  },
  {
   "cell_type": "code",
   "execution_count": 1,
   "id": "d757646a-28e5-4905-af7b-fc17e483968f",
   "metadata": {},
   "outputs": [
    {
     "name": "stdout",
     "output_type": "stream",
     "text": [
      "File midterm.py not found,\n",
      "File idterm.py not found,\n"
     ]
    }
   ],
   "source": [
    "def fileLength(file_name):\n",
    "    try:\n",
    "        with open(file_name, 'r') as file:\n",
    "            contents = file.read()\n",
    "            print(len(contents))\n",
    "    except FileNotFoundError:     # friendly message if file not found\n",
    "        print(f'File {file_name} not found,')\n",
    "    except Exception as e:    # any other exceptions and print error message\n",
    "        print(f'An error occured while reading the file {file_name}: {e}')\n",
    "fileLength('midterm.py')\n",
    "fileLength('idterm.py')\n",
    "\n",
    "        "
   ]
  },
  {
   "cell_type": "markdown",
   "id": "a123eefc-424c-49fe-90e2-f95959bde128",
   "metadata": {},
   "source": [
    "# Question 3"
   ]
  },
  {
   "cell_type": "code",
   "execution_count": 7,
   "id": "23d60495-de30-4ba3-9ebf-880d38f019cd",
   "metadata": {},
   "outputs": [
    {
     "name": "stdout",
     "output_type": "stream",
     "text": [
      "['doll', 'firetruck', 'kitten']\n",
      "I am a Kangaroo located at coordinates (0, 0)\n",
      "['doll', 'firetruck', 'kitten']\n",
      "I am a Kangaroo located at coordinates (3, 0)\n"
     ]
    }
   ],
   "source": [
    "class Marsupial:\n",
    "    def __init__(self):\n",
    "    # start an empty list\n",
    "        self.pouch = []\n",
    "    def put_in_pouch(self, item):  #add item to pouch\n",
    "        self.pouch.append(item)\n",
    "    def pouch_contents(self):\n",
    "        return self.pouch \n",
    "class Kangaroo(Mursipial):\n",
    "    def __init__(self, x, y): \n",
    "        #initialize sub class consruct\n",
    "        super().__init__()\n",
    "        #initialize coordinates\n",
    "        self.x = x\n",
    "        self.y = y\n",
    "    def jump(self, dx, dy):    # move Kangaroo by dx along x-axis and dy along y-axis\n",
    "        self.x += dx\n",
    "        self.y += dy\n",
    "    def __str__(self):\n",
    "        # return kangaroo's location\n",
    "        return f'I am a Kangaroo located at coordinates ({self.x}, {self.y})'\n",
    "m = Marsupial()\n",
    "m.put_in_pouch('doll')\n",
    "m.put_in_pouch('firetruck')\n",
    "m.put_in_pouch('kitten')\n",
    "print(m.pouch_contents())\n",
    "k = Kangaroo(0, 0)\n",
    "print(k)\n",
    "k.put_in_pouch('doll')\n",
    "k.put_in_pouch('firetruck')\n",
    "k.put_in_pouch('kitten')\n",
    "print(k.pouch_contents())\n",
    "k.jump(1, 0)\n",
    "k.jump(1, 0)\n",
    "k.jump(1, 0)\n",
    "print(k)\n",
    "    "
   ]
  },
  {
   "cell_type": "code",
   "execution_count": null,
   "id": "a3b32a95-101c-472c-aabc-7a1f34d29aa7",
   "metadata": {},
   "outputs": [],
   "source": []
  },
  {
   "cell_type": "markdown",
   "id": "86428ca4-0f2a-4ae3-809c-b694d267702b",
   "metadata": {},
   "source": [
    "# Question 4"
   ]
  },
  {
   "cell_type": "code",
   "execution_count": 11,
   "id": "6a810083-c61e-4a8d-9e65-9db27d68f46a",
   "metadata": {},
   "outputs": [
    {
     "name": "stdout",
     "output_type": "stream",
     "text": [
      "1\n",
      "10\n",
      "5\n",
      "16\n",
      "8\n",
      "4\n",
      "2\n",
      "1\n"
     ]
    }
   ],
   "source": [
    "def collatz(x):\n",
    "    print(int(x))\n",
    "    # Basecase: if x is 1 end recurssion\n",
    "    if x == 1:\n",
    "        return  # recursive: apply collatz rule\n",
    "        \n",
    "    elif x % 2 == 0: # x is even\n",
    "        collatz(x / 2)\n",
    "    else: # x is odd\n",
    "        collatz(3*x + 1)\n",
    "\n",
    "collatz(1)\n",
    "\n",
    "collatz(10)"
   ]
  },
  {
   "cell_type": "markdown",
   "id": "02da7b4a-d476-4ecc-9e51-8bd6bfab04b5",
   "metadata": {},
   "source": [
    "# Question 5"
   ]
  },
  {
   "cell_type": "code",
   "execution_count": 23,
   "id": "86143810-b0d7-4cdc-a7f0-935f4aecbebb",
   "metadata": {},
   "outputs": [
    {
     "name": "stdout",
     "output_type": "stream",
     "text": [
      "0\n",
      "\n",
      "1\n",
      "\n",
      "11\n",
      "\n",
      "1001"
     ]
    }
   ],
   "source": [
    "def binary(n):\n",
    "    if n == 0:\n",
    "        print(0, end = '')\n",
    "    elif n ==1:\n",
    "        print(1, end='')\n",
    "    else:   # recursive case: divide by 2 and continue convert\n",
    "        binary(n // 2)\n",
    "        print(n % 2, end = '')  # print remainder(0 or 1)\n",
    "binary(0)\n",
    "print('\\n')\n",
    "binary(1)\n",
    "print('\\n')\n",
    "binary(3)\n",
    "print('\\n')\n",
    "binary(9)\n"
   ]
  },
  {
   "cell_type": "markdown",
   "id": "6de60b4c-453f-45be-a48d-eda8d8d95a2a",
   "metadata": {},
   "source": [
    "# Question 6"
   ]
  },
  {
   "cell_type": "code",
   "execution_count": 25,
   "id": "ccd5e81c-25ce-4f8f-b3b5-3c6e8b08a0dd",
   "metadata": {},
   "outputs": [
    {
     "ename": "FileNotFoundError",
     "evalue": "[Errno 2] No such file or directory: 'w3c.html'",
     "output_type": "error",
     "traceback": [
      "\u001b[0;31m---------------------------------------------------------------------------\u001b[0m",
      "\u001b[0;31mFileNotFoundError\u001b[0m                         Traceback (most recent call last)",
      "Cell \u001b[0;32mIn[25], line 19\u001b[0m\n\u001b[1;32m     17\u001b[0m         \u001b[38;5;28;01mfor\u001b[39;00m h \u001b[38;5;129;01min\u001b[39;00m \u001b[38;5;28mself\u001b[39m\u001b[38;5;241m.\u001b[39mheadings:\n\u001b[1;32m     18\u001b[0m             \u001b[38;5;28mprint\u001b[39m(h)\n\u001b[0;32m---> 19\u001b[0m infile \u001b[38;5;241m=\u001b[39m \u001b[38;5;28mopen\u001b[39m(\u001b[38;5;124m'\u001b[39m\u001b[38;5;124mw3c.html\u001b[39m\u001b[38;5;124m'\u001b[39m)\n\u001b[1;32m     20\u001b[0m content \u001b[38;5;241m=\u001b[39m infile\u001b[38;5;241m.\u001b[39mread()\n\u001b[1;32m     21\u001b[0m infile\u001b[38;5;241m.\u001b[39mclose()\n",
      "File \u001b[0;32m/opt/anaconda3/lib/python3.12/site-packages/IPython/core/interactiveshell.py:324\u001b[0m, in \u001b[0;36m_modified_open\u001b[0;34m(file, *args, **kwargs)\u001b[0m\n\u001b[1;32m    317\u001b[0m \u001b[38;5;28;01mif\u001b[39;00m file \u001b[38;5;129;01min\u001b[39;00m {\u001b[38;5;241m0\u001b[39m, \u001b[38;5;241m1\u001b[39m, \u001b[38;5;241m2\u001b[39m}:\n\u001b[1;32m    318\u001b[0m     \u001b[38;5;28;01mraise\u001b[39;00m \u001b[38;5;167;01mValueError\u001b[39;00m(\n\u001b[1;32m    319\u001b[0m         \u001b[38;5;124mf\u001b[39m\u001b[38;5;124m\"\u001b[39m\u001b[38;5;124mIPython won\u001b[39m\u001b[38;5;124m'\u001b[39m\u001b[38;5;124mt let you open fd=\u001b[39m\u001b[38;5;132;01m{\u001b[39;00mfile\u001b[38;5;132;01m}\u001b[39;00m\u001b[38;5;124m by default \u001b[39m\u001b[38;5;124m\"\u001b[39m\n\u001b[1;32m    320\u001b[0m         \u001b[38;5;124m\"\u001b[39m\u001b[38;5;124mas it is likely to crash IPython. If you know what you are doing, \u001b[39m\u001b[38;5;124m\"\u001b[39m\n\u001b[1;32m    321\u001b[0m         \u001b[38;5;124m\"\u001b[39m\u001b[38;5;124myou can use builtins\u001b[39m\u001b[38;5;124m'\u001b[39m\u001b[38;5;124m open.\u001b[39m\u001b[38;5;124m\"\u001b[39m\n\u001b[1;32m    322\u001b[0m     )\n\u001b[0;32m--> 324\u001b[0m \u001b[38;5;28;01mreturn\u001b[39;00m io_open(file, \u001b[38;5;241m*\u001b[39margs, \u001b[38;5;241m*\u001b[39m\u001b[38;5;241m*\u001b[39mkwargs)\n",
      "\u001b[0;31mFileNotFoundError\u001b[0m: [Errno 2] No such file or directory: 'w3c.html'"
     ]
    }
   ],
   "source": [
    "from html.parser import HTMLParser\n",
    "class HeadingParser(HTMLParser):\n",
    "    def __init__(self):\n",
    "        super().__init__()\n",
    "        self.headings = []\n",
    "    def handle_starttag(self, tag, attrs):\n",
    "        if tag in ['h1', 'h2', 'h3', 'h4', 'h5', 'h6']:\n",
    "            self.cur_heading = int(tag[1])\n",
    "    def handle_endtag(self, tag):\n",
    "        if tag in ['h1', 'h2', 'h3', 'h4', 'h5', 'h6']:\n",
    "            self.cur_heading = None\n",
    "    def handle_data(self, data):\n",
    "        if self.cur_heading:\n",
    "            indentation = ' ' * (self.cur_heading - 1)\n",
    "            self.headings.append(f'{indentation}{data.strip()}')\n",
    "    def print_headings(self):\n",
    "        for h in self.headings:\n",
    "            print(h)\n",
    "infile = open('w3c.html')\n",
    "content = infile.read()\n",
    "infile.close()\n",
    "hp = HeadingParser()\n",
    "hp.feed(content)"
   ]
  },
  {
   "cell_type": "markdown",
   "id": "869326ea-7ced-4842-b3e5-56fec642e655",
   "metadata": {},
   "source": [
    "# Question 7"
   ]
  },
  {
   "cell_type": "code",
   "execution_count": 31,
   "id": "935021c5-b709-4a38-8c26-57067eb4822a",
   "metadata": {},
   "outputs": [
    {
     "name": "stdout",
     "output_type": "stream",
     "text": [
      "http://reed.cs.depaul.edu/lperkovic/csc242/test1.html\n",
      "Error accessing http://reed.cs.depaul.edu/lperkovic/csc242/test1.html: 404 Client Error:  for url: http://reed.cs.depaul.edu/lperkovic/csc242/test1.html\n"
     ]
    }
   ],
   "source": [
    "import requests\n",
    "from bs4 import BeautifulSoup\n",
    "\n",
    "def webdir(url, depth, indent):\n",
    "    # Print current URL with specified indentation\n",
    "    print(\" \" * indent + url)\n",
    "    \n",
    "    # Stop if depth is 0\n",
    "    if depth == 0:\n",
    "        return\n",
    "\n",
    "    try:\n",
    "        # Send GET request to fetch HTML content\n",
    "        response = requests.get(url)\n",
    "        response.raise_for_status()  # Raise an error for bad HTTP responses\n",
    "\n",
    "        # Parse HTML content with BeautifulSoup\n",
    "        soup = BeautifulSoup(response.text, 'html.parser')\n",
    "        \n",
    "        # all links on the page\n",
    "        for link in soup.find_all('a', href=True):\n",
    "            # Get the full URL of each link\n",
    "            child_url = requests.compat.urljoin(url, link['href'])\n",
    "            \n",
    "            # visit each link, - depth by 1 and indent + 1\n",
    "            webdir(child_url, depth - 1, indent + 1)\n",
    "    \n",
    "    except requests.exceptions.RequestException as e:\n",
    "        print(f\"Error accessing {url}: {e}\")\n",
    "\n",
    "webdir('http://reed.cs.depaul.edu/lperkovic/csc242/test1.html', 2, 0)\n"
   ]
  },
  {
   "cell_type": "markdown",
   "id": "1d72e5f8-4ef9-4559-9fae-33d9cff61d3c",
   "metadata": {},
   "source": [
    "# Question 8"
   ]
  },
  {
   "cell_type": "markdown",
   "id": "d6bee969-900a-4dd3-b065-9c48ce6b17aa",
   "metadata": {},
   "source": [
    "a)\n",
    "SELECT Temperature\n",
    "FROM table_name;\n",
    "\n",
    "b)\n",
    "SELECT DISTINCT City\n",
    "FROM table_name;\n",
    "\n",
    "c) \n",
    "SELECT *\n",
    "FROM table_name\n",
    "WHERE Country = 'India';\n",
    "\n",
    "d) \n",
    "SELECT *\n",
    "FROM table_name\n",
    "WHERE Season = 'Fall';\n",
    "\n",
    "e)\n",
    "SELECT City, Country, Season\n",
    "FROM table_name\n",
    "WHERE Rainfall BETWEEN 200 and 400;\n",
    "\n",
    "f) \n",
    "SELECT City, Country\n",
    "FROM table_name\n",
    "WHERE Season = 'Fall' AND Temperature > 20\n",
    "ORDER BY Temperature ASC;\n",
    "\n",
    "g)\n",
    "SELECT SUM(Rainfall) as Total_Rainfall\n",
    "FROM table_name\n",
    "WHERE City = 'Cairo';\n",
    "\n",
    "h)\n",
    "SELECT Season, SUM(Rainfall) as Total_Rainfall\n",
    "FROM table_name\n",
    "GROUP BY Season;"
   ]
  },
  {
   "cell_type": "markdown",
   "id": "02568e80-ca4d-4c6f-9c01-532bea94e62d",
   "metadata": {},
   "source": [
    "# Question 9"
   ]
  },
  {
   "cell_type": "markdown",
   "id": "a27b8e7d-8250-4512-87b3-2dacffa58104",
   "metadata": {},
   "source": [
    "a)\n",
    "uppercase_words = [word.upper() for word in words]\n",
    "\n",
    "b)\n",
    "lowercase_words = [word.lower() for word in words]\n",
    "\n",
    "c)\n",
    "word_lengths = [len(word) for word in words]\n",
    "\n",
    "d)\n",
    "word_variations = [[word.upper(), word.lower(), len(word)] for word in words]\n",
    "\n",
    "e)\n",
    "long_words = [word for word in words if len(word) >= 4]"
   ]
  }
 ],
 "metadata": {
  "kernelspec": {
   "display_name": "Python 3 (ipykernel)",
   "language": "python",
   "name": "python3"
  },
  "language_info": {
   "codemirror_mode": {
    "name": "ipython",
    "version": 3
   },
   "file_extension": ".py",
   "mimetype": "text/x-python",
   "name": "python",
   "nbconvert_exporter": "python",
   "pygments_lexer": "ipython3",
   "version": "3.12.4"
  }
 },
 "nbformat": 4,
 "nbformat_minor": 5
}
